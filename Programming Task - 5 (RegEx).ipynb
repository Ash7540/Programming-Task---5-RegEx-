{
 "cells": [
  {
   "cell_type": "code",
   "execution_count": 1,
   "id": "c04a5c77",
   "metadata": {},
   "outputs": [
    {
     "name": "stdout",
     "output_type": "stream",
     "text": [
      "2\n",
      "434\n",
      "False\n",
      "+9135535\n",
      "False\n"
     ]
    }
   ],
   "source": [
    "# Detect Floating Point Numbe\n",
    "import re \n",
    "pattern = '^[+-]?[0-9]*\\.[0-9]+$' \n",
    "regex = re.compile(pattern)\n",
    "N = int(input())\n",
    "for _ in range(N):\n",
    "    a = bool(regex.match(input()))\n",
    "    print(a)"
   ]
  },
  {
   "cell_type": "code",
   "execution_count": 2,
   "id": "c6035aa8",
   "metadata": {},
   "outputs": [
    {
     "name": "stdout",
     "output_type": "stream",
     "text": [
      "ashwin\n",
      "ashwin\n"
     ]
    }
   ],
   "source": [
    "# Re.split()\n",
    "regex_pattern = r\"[,.]\"  # Do not delete 'r'.\n",
    "\n",
    "import re\n",
    "print(\"\\n\".join(re.split(regex_pattern, input())))"
   ]
  },
  {
   "cell_type": "code",
   "execution_count": 3,
   "id": "481cb6b1",
   "metadata": {},
   "outputs": [
    {
     "name": "stdout",
     "output_type": "stream",
     "text": [
      "a.s.s.s\n",
      "-1\n"
     ]
    }
   ],
   "source": [
    "# Group(), Groups() & Groupdict()\n",
    "import re\n",
    "\n",
    "a = re.search(r'([a-zA-Z0-9])\\1+', input()) \n",
    "print(a.group(1) if a else -1)"
   ]
  },
  {
   "cell_type": "code",
   "execution_count": 4,
   "id": "ea29b917",
   "metadata": {},
   "outputs": [
    {
     "name": "stdout",
     "output_type": "stream",
     "text": [
      "ashwijvgjjdjb\n",
      "-1\n"
     ]
    }
   ],
   "source": [
    "# Re.findall() & Re.finditer()\n",
    "import re\n",
    "a = input()\n",
    "b = re.findall(r'(?<=[QWRTYPSDFGHJKLZXCVBNMqwrtypsdfghjklzxcvbnm])([aeiouAIEOU]{2,})(?=[QWRTYPSDFGHJKLZXCVBNMqwrtypsdfghjklzxcvbnm])',a)\n",
    "if b:\n",
    "    print('\\n'.join(b))\n",
    "else:\n",
    "    print(-1)\n"
   ]
  },
  {
   "cell_type": "code",
   "execution_count": 5,
   "id": "e624fdc7",
   "metadata": {},
   "outputs": [
    {
     "name": "stdout",
     "output_type": "stream",
     "text": [
      "ass\n",
      "aserge\n",
      "(-1, -1)\n"
     ]
    }
   ],
   "source": [
    "# Re.start() & Re.end()\n",
    "import re\n",
    "a,b = input(),input()\n",
    "pattern = re.compile(b)\n",
    "m=pattern.search(a)\n",
    "\n",
    "if not m:\n",
    "        print((-1,-1))  \n",
    "while m:\n",
    "    print((m.start(),m.end()-1))\n",
    "    m=pattern.search(a,m.start()+1)"
   ]
  },
  {
   "cell_type": "code",
   "execution_count": 7,
   "id": "f3f36e97",
   "metadata": {},
   "outputs": [
    {
     "name": "stdout",
     "output_type": "stream",
     "text": [
      "2\n",
      "dgodjgiodjgo\\\n",
      "gsgessgg\n",
      "dgodjgiodjgo\\\n",
      "gsgessgg\n"
     ]
    },
    {
     "data": {
      "text/plain": [
       "[None, None]"
      ]
     },
     "execution_count": 7,
     "metadata": {},
     "output_type": "execute_result"
    }
   ],
   "source": [
    "# Regex Substitution\n",
    "import re\n",
    "\n",
    "def swap(same):\n",
    "    if same.group() == ' &&':\n",
    "        return ' and'\n",
    "    if same.group() == ' ||':\n",
    "        return ' or'\n",
    "\n",
    "a = int(input())\n",
    "line = [input() for _ in range(a)]\n",
    "[print(re.sub(r\"\\s(&&)(?=\\s)|\\s(\\|\\|)(?=\\s)\", swap, o)) for o in line] "
   ]
  },
  {
   "cell_type": "code",
   "execution_count": 8,
   "id": "b1223122",
   "metadata": {},
   "outputs": [
    {
     "name": "stdout",
     "output_type": "stream",
     "text": [
      "II\n",
      "True\n"
     ]
    }
   ],
   "source": [
    "# Validating Roman Numerals\n",
    "regex_pattern = r\"^(?=[MDCLXVI])M{0,3}(C[MD]|D?C{0,3})(X[CL]|L?X{0,3})(I[XV]|V?I{0,3})$\"\t# Do not delete 'r'.\n",
    "\n",
    "import re\n",
    "print(str(bool(re.match(regex_pattern, input()))))"
   ]
  },
  {
   "cell_type": "code",
   "execution_count": 9,
   "id": "52a664c9",
   "metadata": {},
   "outputs": [
    {
     "name": "stdout",
     "output_type": "stream",
     "text": [
      "1\n",
      "+91 4343838383\n",
      "NO\n"
     ]
    }
   ],
   "source": [
    "# Validating phone numbers\n",
    "import re\n",
    "a = int(input())\n",
    "for i in range(a):\n",
    "    print('YES' if re.match(r'^[7-9]\\d{9}$', input()) else 'NO')\n"
   ]
  },
  {
   "cell_type": "code",
   "execution_count": null,
   "id": "19bca84d",
   "metadata": {},
   "outputs": [
    {
     "name": "stdout",
     "output_type": "stream",
     "text": [
      "2\n",
      "DEXTER <dexter@hotmail.com> VIRUS <virus!@variable.:p>DEXTER <dexter@hotmail.com> VIRUS <virus!@variable.:p>\n",
      "DEXTER <dexter@hotmail.com>\n"
     ]
    }
   ],
   "source": [
    "# Validating and Parsing Email Addresses\n",
    "import email.utils\n",
    "import re\n",
    "\n",
    "a = int(input())\n",
    "for i in range(a):\n",
    "    parse = email.utils.parseaddr(input())\n",
    "    email1 = r\"^[a-z][\\w\\-.]*@[a-z]+\\.[a-z]{1,3}$\"\n",
    "    match = re.search(email1, parse[1], re.I)\n",
    "    if match:\n",
    "        print(email.utils.formataddr(parse))"
   ]
  },
  {
   "cell_type": "code",
   "execution_count": 5,
   "id": "416aca30",
   "metadata": {},
   "outputs": [
    {
     "name": "stdout",
     "output_type": "stream",
     "text": [
      "1\n",
      "#BED {     color: #FfFdF8; background-color:#aef;     font-size: 123px; }\n",
      "\n"
     ]
    }
   ],
   "source": [
    "# Hex Color Code\n",
    "import re\n",
    "\n",
    "pat = re.compile(r'#([0-9a-fA-F]{1,2}){3}')\n",
    "\n",
    "hex = []\n",
    "n = int(input())\n",
    "for i in range(n):\n",
    "    a = input()\n",
    "    if a.endswith(';'):\n",
    "        hex += [m.group(0) for m in re.finditer(pat, a)]\n",
    "print(*hex, sep='\\n')"
   ]
  },
  {
   "cell_type": "code",
   "execution_count": null,
   "id": "ae6a03c6",
   "metadata": {},
   "outputs": [],
   "source": [
    "# HTML Parser - Part 1\n",
    "from html.parser import HTMLParser\n",
    "\n",
    "class Parser(HTMLParser):\n",
    "    def print(self, action, tag, attrs=()):\n",
    "        print(f\"{action:5} : {tag}\")\n",
    "        for name, value in attrs:\n",
    "            print(f\"-> {name} > {value}\")\n",
    "        \n",
    "    def handle_starttag(self, tag, attrs):\n",
    "        self.print(\"Start\", tag, attrs)\n",
    "\n",
    "    def handle_endtag(self, tag):\n",
    "        self.print(\"End\", tag)\n",
    "\n",
    "    def handle_startendtag(self, tag, attrs):\n",
    "        self.print(\"Empty\", tag, attrs)\n",
    "\n",
    "parser = Parser()\n",
    "a = int(input())\n",
    "for i in range(a):\n",
    "    parser.feed(input())"
   ]
  },
  {
   "cell_type": "code",
   "execution_count": null,
   "id": "ec68bae3",
   "metadata": {},
   "outputs": [],
   "source": [
    "# HTML Parser - Part 2\n",
    "from html.parser import HTMLParser\n",
    "\n",
    "class MyHTMLParser(HTMLParser):\n",
    "    def handle_comment(self, data):\n",
    "        data = str(data).split('\\n')\n",
    "        if len(data)>1:\n",
    "            print('>>> Multi-line Comment', *data, sep='\\n')\n",
    "        else:\n",
    "            print('>>> Single-line Comment', data[0], sep='\\n')            \n",
    "    def handle_data(self, data):\n",
    "        data = str(data).replace('\\n', '')\n",
    "        if len(data)>0:\n",
    "            print('>>> Data', data, sep='\\n')\n",
    "\n",
    "html = \"\"       \n",
    "for _ in range(int(input())):\n",
    "    html += input().rstrip()\n",
    "    html += '\\n'\n",
    "    \n",
    "parser = MyHTMLParser()\n",
    "parser.feed(html)\n",
    "parser.close()"
   ]
  },
  {
   "cell_type": "code",
   "execution_count": null,
   "id": "7aa03e5e",
   "metadata": {},
   "outputs": [],
   "source": [
    "# Detect HTML Tags, Attributes and Attribute Values\n",
    "from html.parser import HTMLParser\n",
    "\n",
    "class MyHTMLParser(HTMLParser):\n",
    "    def handle_starttag(self, tag, attrs):\n",
    "        print(tag)\n",
    "        for j in attrs:\n",
    "            print('->', j[0], '>', j[1])\n",
    "            \n",
    "parser = MyHTMLParser()\n",
    "a = int(input())\n",
    "for i in range(a):\n",
    "    parser.feed(input())"
   ]
  },
  {
   "cell_type": "code",
   "execution_count": null,
   "id": "4fbb1ea8",
   "metadata": {},
   "outputs": [],
   "source": [
    "# Validating UID\n",
    "import re\n",
    "a = int(input())\n",
    "for i in range(a):\n",
    "    s = input()\n",
    "    match = bool(re.match(r\"^[a-zA-Z0-9]{10}$\", s)) and not bool(re.findall(r'(.)(?=.*\\1)', s)) and bool(re.search(r'\\d.*\\d.*\\d', s)) and bool(re.search(r'[A-Z].*[A-Z]', s))\n",
    "    print('Valid' if match else 'Invalid')"
   ]
  },
  {
   "cell_type": "code",
   "execution_count": null,
   "id": "b903ea8d",
   "metadata": {},
   "outputs": [],
   "source": [
    "# Validating Credit Card Numbers\n",
    "import re\n",
    "a = int(input())\n",
    "for i in range(a):\n",
    "    t = input()\n",
    "    pattern = re.compile(r\"^([456][\\d+]{3})-([\\d+]{4})-([\\d+]{4})-([\\d+]{4})$|^([456][\\d+]{15})$\")\n",
    "\n",
    "    if pattern.match(t):\n",
    "        t = ''.join([i for i in t if i != '-'])\n",
    "        if all([False if i*4 in t  else True for i in set(t)]):\n",
    "            print(\"Valid\")\n",
    "        else:\n",
    "            print(\"Invalid\")\n",
    "    else:\n",
    "        print(\"Invalid\")    "
   ]
  },
  {
   "cell_type": "code",
   "execution_count": null,
   "id": "c1aec82d",
   "metadata": {},
   "outputs": [],
   "source": [
    "#Validating Postal Codes\n",
    "regex_integer_in_range = r\"^[1-9]\\d{5}$\"\t# Do not delete 'r'.\n",
    "regex_alternating_repetitive_digit_pair = r\"(\\d)(?=\\d\\1)\"\t# Do not delete 'r'.\n",
    "\n",
    "\n",
    "import re\n",
    "P = input()\n",
    "\n",
    "print (bool(re.match(regex_integer_in_range, P)) \n",
    "and len(re.findall(regex_alternating_repetitive_digit_pair, P)) < 2)"
   ]
  },
  {
   "cell_type": "code",
   "execution_count": null,
   "id": "fee7e585",
   "metadata": {},
   "outputs": [],
   "source": [
    "# Matrix Script\n",
    "#!/bin/python3\n",
    "\n",
    "import math\n",
    "import os\n",
    "import random\n",
    "import re\n",
    "import sys\n",
    "\n",
    "\n",
    "\n",
    "\n",
    "first_multiple_input = input().rstrip().split()\n",
    "\n",
    "n = int(first_multiple_input[0])\n",
    "\n",
    "m = int(first_multiple_input[1])\n",
    "\n",
    "matrix = []\n",
    "\n",
    "for _ in range(n):\n",
    "    matrix_item = input()\n",
    "    matrix.append(matrix_item)\n",
    "\n",
    "result =''\n",
    "num = 0\n",
    "\n",
    "while num < m:\n",
    "    for item in matrix:\n",
    "        result+=item[num]\n",
    "        # print(item[number])\n",
    "    num = num + 1\n",
    "\n",
    "print(re.sub(r'(?<=\\w)[^\\w]+?(?=\\w)', ' ', result))"
   ]
  }
 ],
 "metadata": {
  "kernelspec": {
   "display_name": "Python 3 (ipykernel)",
   "language": "python",
   "name": "python3"
  },
  "language_info": {
   "codemirror_mode": {
    "name": "ipython",
    "version": 3
   },
   "file_extension": ".py",
   "mimetype": "text/x-python",
   "name": "python",
   "nbconvert_exporter": "python",
   "pygments_lexer": "ipython3",
   "version": "3.9.12"
  }
 },
 "nbformat": 4,
 "nbformat_minor": 5
}
